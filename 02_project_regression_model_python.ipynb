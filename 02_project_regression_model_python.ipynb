{
  "nbformat": 4,
  "nbformat_minor": 0,
  "metadata": {
    "colab": {
      "name": "House_price_project_regression.ipynb",
      "provenance": [],
      "collapsed_sections": [
        "gb-K7J_66mLZ",
        "d3aw9gndEDyR"
      ]
    },
    "kernelspec": {
      "display_name": "Python 3",
      "language": "python",
      "name": "python3"
    },
    "language_info": {
      "codemirror_mode": {
        "name": "ipython",
        "version": 3
      },
      "file_extension": ".py",
      "mimetype": "text/x-python",
      "name": "python",
      "nbconvert_exporter": "python",
      "pygments_lexer": "ipython3",
      "version": "3.8.5"
    }
  },
  "cells": [
    {
      "cell_type": "markdown",
      "metadata": {
        "id": "7_piy2Obo_uT"
      },
      "source": [
        "**Mid-bootcamp project: Regression**"
      ]
    },
    {
      "cell_type": "markdown",
      "metadata": {
        "id": "WDC65Hza6X8q"
      },
      "source": [
        "# Import tools"
      ]
    },
    {
      "cell_type": "code",
      "metadata": {
        "id": "9zSJ83QHnJN0"
      },
      "source": [
        "import pandas as pd\n",
        "import numpy as np\n",
        "import datetime\n",
        "import warnings\n",
        "\n",
        "warnings.filterwarnings('ignore')\n",
        "warnings.filterwarnings(\"ignore\", message=\"numpy.ufunc size changed\")\n",
        "\n",
        "import matplotlib.pyplot as plt\n",
        "import seaborn as sns\n",
        "sns.set_style(\"whitegrid\")\n",
        "\n",
        "%matplotlib inline\n",
        "\n",
        "pd.set_option('display.max_columns', None)"
      ],
      "execution_count": null,
      "outputs": []
    },
    {
      "cell_type": "markdown",
      "metadata": {
        "id": "6vNHBkk8nJOw"
      },
      "source": [
        "# Load data\r\n",
        "\r\n"
      ]
    },
    {
      "cell_type": "markdown",
      "metadata": {
        "id": "GCW9mfspTUPP"
      },
      "source": [
        "**Importing SQL query**"
      ]
    },
    {
      "cell_type": "code",
      "metadata": {
        "id": "g3aGaQmAoC6U"
      },
      "source": [
        "from sqlalchemy import create_engine\r\n",
        "import pandas as pd\r\n",
        "import getpass  \r\n",
        "password = getpass.getpass()"
      ],
      "execution_count": null,
      "outputs": []
    },
    {
      "cell_type": "code",
      "metadata": {
        "id": "85N0BtyQnJO3"
      },
      "source": [
        "# Establishing the connection with MySQL\n",
        "connection_string = 'mysql+pymysql://root:' + password + '@localhost/house_price_regression'\n",
        "engine = create_engine(connection_string)\n",
        "data = pd.read_sql_query('SELECT * from house_price_data', engine)\n",
        "data.head()"
      ],
      "execution_count": null,
      "outputs": []
    },
    {
      "cell_type": "markdown",
      "metadata": {
        "id": "Vvy9dY6o6ejd"
      },
      "source": [
        "# Exploration of the data"
      ]
    },
    {
      "cell_type": "code",
      "metadata": {
        "id": "-MAkyuKSnJO5"
      },
      "source": [
        "data.shape"
      ],
      "execution_count": null,
      "outputs": []
    },
    {
      "cell_type": "code",
      "metadata": {
        "id": "Aq7OgpM3nJO6"
      },
      "source": [
        "data.info()"
      ],
      "execution_count": null,
      "outputs": []
    },
    {
      "cell_type": "code",
      "metadata": {
        "id": "-vlkjui1nJO8"
      },
      "source": [
        "data.isna().sum()"
      ],
      "execution_count": null,
      "outputs": []
    },
    {
      "cell_type": "code",
      "metadata": {
        "id": "XZpjTO9Ap_nE"
      },
      "source": [
        "data.isin(['', ' ']).sum()"
      ],
      "execution_count": null,
      "outputs": []
    },
    {
      "cell_type": "code",
      "metadata": {
        "id": "_r9CynO9nJO9"
      },
      "source": [
        "data.describe()"
      ],
      "execution_count": null,
      "outputs": []
    },
    {
      "cell_type": "markdown",
      "metadata": {
        "id": "oVJFESekpeyB"
      },
      "source": [
        "**Splitting continuous and discrete values (Sara)**"
      ]
    },
    {
      "cell_type": "code",
      "metadata": {
        "id": "0uv7sAZO-N_3"
      },
      "source": [
        "continuous_data = pd.DataFrame()\r\n",
        "discrete_data = pd.DataFrame()\r\n",
        "\r\n",
        "for i in data:\r\n",
        "    if len(data[i].unique()) < 120:\r\n",
        "        discrete_data[i] = data[i]\r\n",
        "    else:\r\n",
        "        continuous_data[i] = data[i]"
      ],
      "execution_count": null,
      "outputs": []
    },
    {
      "cell_type": "markdown",
      "metadata": {
        "id": "r3OyB0jQpn2i"
      },
      "source": [
        "**Exploring the unique values**"
      ]
    },
    {
      "cell_type": "code",
      "metadata": {
        "id": "L5oYnp4_nJO-"
      },
      "source": [
        "for i in data.columns.tolist():         \n",
        "    print(i, len(data[i].unique()))"
      ],
      "execution_count": null,
      "outputs": []
    },
    {
      "cell_type": "code",
      "metadata": {
        "id": "ylWw5TT1qd4y"
      },
      "source": [
        "#check quantity of each unique value per column\r\n",
        "for i in data:\r\n",
        "    print('Catagory: ', i)\r\n",
        "    print(data[i].value_counts())\r\n",
        "    print('\\n')"
      ],
      "execution_count": null,
      "outputs": []
    },
    {
      "cell_type": "code",
      "metadata": {
        "id": "SWRT0f3jnJPA"
      },
      "source": [
        "# checking uniques values that are less than 100\n",
        "for i in data:\n",
        "    if len(data[i].unique()) < 100:\n",
        "        print('.....',i,'.....')\n",
        "        print( data[i].unique())"
      ],
      "execution_count": null,
      "outputs": []
    },
    {
      "cell_type": "code",
      "metadata": {
        "id": "4ZhM7T9WnJPB"
      },
      "source": [
        "# printing the distribution plot of the columns\r\n",
        "for i in continuous_data:\r\n",
        "    print(i)\r\n",
        "    sns.distplot(data[i], bins=20)\r\n",
        "    plt.show()"
      ],
      "execution_count": null,
      "outputs": []
    },
    {
      "cell_type": "markdown",
      "metadata": {
        "id": "9Vd4XCflpzA6"
      },
      "source": [
        "**Checking the outliers**"
      ]
    },
    {
      "cell_type": "code",
      "metadata": {
        "id": "Zz0ybrl-Dbbe"
      },
      "source": [
        "outliers_list = pd.DataFrame (columns = ['name', 'perc'])\r\n",
        "def get_outliers(data):\r\n",
        "    outliers_list = pd.DataFrame (columns = ['name', 'perc'])\r\n",
        "    for i in data:  \r\n",
        "        iqr = np.percentile(data[i],75) - np.percentile(data[i],25)\r\n",
        "        upper_limit = np.percentile(data[i],75) + 1.5*iqr    \r\n",
        "        outliers = data[data[i] > upper_limit].index.tolist()       \r\n",
        "        \r\n",
        "        \r\n",
        "        if len(outliers) > 0:\r\n",
        "            print (i)\r\n",
        "            print(\"The upper whisker is at: %4.2f\" % upper_limit)\r\n",
        "            print(\"The number of points outside the upper whisker is: \",len(outliers))\r\n",
        "            print(\"Percentage from total\", round(len(outliers)*100/len(data[i]),2), '%')\r\n",
        "            ax, fig = plt.subplots(figsize = (20,2))\r\n",
        "            sns.boxplot(x=i, data=data)\r\n",
        "            plt.show()\r\n",
        "        else:\r\n",
        "            print (i, 'has no outliers')\r\n",
        "        print()\r\n",
        "        \r\n",
        "        perc = round(len(outliers)*100/len(data[i]),2)\r\n",
        "        outliers_list = outliers_list.append({'name': i, 'perc': perc}, ignore_index=True)\r\n",
        "    outliers_list = outliers_list.sort_values(by=['perc'],ascending=False)\r\n",
        "    return outliers_list\r\n",
        "        \r\n",
        "\r\n",
        "get_outliers(data)\r\n"
      ],
      "execution_count": null,
      "outputs": []
    },
    {
      "cell_type": "markdown",
      "metadata": {
        "id": "OfegOHuCp7cR"
      },
      "source": [
        "**Exploring the continuous data**"
      ]
    },
    {
      "cell_type": "code",
      "metadata": {
        "id": "y0_FvIvrFGzG"
      },
      "source": [
        "# checking the skewness \r\n",
        "from scipy.stats import skew\r\n",
        "continuous_data.apply(skew)"
      ],
      "execution_count": null,
      "outputs": []
    },
    {
      "cell_type": "code",
      "metadata": {
        "id": "S_kLyvBwHPLj"
      },
      "source": [
        "# checking kurtosis \r\n",
        "from scipy.stats import kurtosis\r\n",
        "for i in continuous_data:\r\n",
        "    print(i, '--------', kurtosis(continuous_data[i]))"
      ],
      "execution_count": null,
      "outputs": []
    },
    {
      "cell_type": "code",
      "metadata": {
        "id": "rl1T1X2CIJ66"
      },
      "source": [
        "# qualitative test of normality (Q-Q Plot)\r\n",
        "from statsmodels.graphics.gofplots import qqplot\r\n",
        "from matplotlib import pyplot\r\n",
        " \r\n",
        "cols = list(continuous_data.columns)\r\n",
        "for col in cols:\r\n",
        "    print('Q-Q plot for variable:', col)\r\n",
        "    qqplot(continuous_data[col], line='s')\r\n",
        "    plt.show()"
      ],
      "execution_count": null,
      "outputs": []
    },
    {
      "cell_type": "markdown",
      "metadata": {
        "id": "gb-K7J_66mLZ"
      },
      "source": [
        "# Cleaning the data"
      ]
    },
    {
      "cell_type": "markdown",
      "metadata": {
        "id": "HLCe-IeSpRSd"
      },
      "source": [
        "**Dropping the 'Id' column**\r\n",
        "\r\n"
      ]
    },
    {
      "cell_type": "code",
      "metadata": {
        "id": "Lfq2OMk8PTiB"
      },
      "source": [
        "data = data.drop(['id'], axis=1)\r\n",
        "#in a later attempt we still use the id to drop duplicates"
      ],
      "execution_count": null,
      "outputs": []
    },
    {
      "cell_type": "markdown",
      "metadata": {
        "id": "ttQvRvZoT4K7"
      },
      "source": [
        "**Replacing the value 33 in 'bedrooms' for 3 (possible typo)**\r\n"
      ]
    },
    {
      "cell_type": "code",
      "metadata": {
        "id": "bexHAgis8KuE"
      },
      "source": [
        "data['bedrooms'] = data['bedrooms'].replace(33, 3)"
      ],
      "execution_count": null,
      "outputs": []
    },
    {
      "cell_type": "markdown",
      "metadata": {
        "id": "K72JK_zPFZ3m"
      },
      "source": [
        "Prepared codes if we need categorical data for further analysis (Kati)\r\n",
        "\r\n",
        "```\r\n",
        "renovation = []\r\n",
        "for x in data['yr_renovated']:\r\n",
        "    if x != 0:\r\n",
        "        renovation.append('Yes')\r\n",
        "    else:\r\n",
        "        renovation.append('No') \r\n",
        "data['renovation'] = renovation\r\n",
        "\r\n",
        "list(np.unique(data['waterfront']))\r\n",
        "\r\n",
        "waterfront = []\r\n",
        "for x in data['waterfront']:\r\n",
        "    if x != 0:\r\n",
        "        waterfront.append('Yes')\r\n",
        "    else:\r\n",
        "        waterfront.append('No')\r\n",
        "data['waterfront'] = waterfront\r\n",
        "```"
      ]
    },
    {
      "cell_type": "markdown",
      "metadata": {
        "id": "hU6kDa216qEF"
      },
      "source": [
        "# Check for multicollinearity"
      ]
    },
    {
      "cell_type": "code",
      "metadata": {
        "id": "exacyRXVIj4E"
      },
      "source": [
        "corr_data = data\r\n",
        " \r\n",
        "correlations_matrix = corr_data.corr()\r\n",
        "mask = np.zeros_like(correlations_matrix)\r\n",
        "mask[np.triu_indices_from(mask)] = True\r\n",
        "fig, ax = plt.subplots(figsize=(10, 8))\r\n",
        "ax = sns.heatmap(correlations_matrix, mask=mask, annot=True)\r\n",
        "plt.show() # Half correlation matrix"
      ],
      "execution_count": null,
      "outputs": []
    },
    {
      "cell_type": "markdown",
      "metadata": {
        "id": "uN2PQoFuIwPl"
      },
      "source": [
        "# Data transformation"
      ]
    },
    {
      "cell_type": "markdown",
      "metadata": {
        "id": "m8A4480rqzv2"
      },
      "source": [
        "**Prepared a master function for data transformations**"
      ]
    },
    {
      "cell_type": "code",
      "metadata": {
        "id": "0g1bz40CIxUd"
      },
      "source": [
        "def log_transform_clean(x):\r\n",
        "    if np.isfinite(x) and x != 0:\r\n",
        "        return np.log(x)\r\n",
        "    else:\r\n",
        "        return np.NAN"
      ],
      "execution_count": null,
      "outputs": []
    },
    {
      "cell_type": "markdown",
      "metadata": {
        "id": "do4eL4PvjMV_"
      },
      "source": [
        "**Prepared a master function for log transformation and scale of the data**\r\n",
        "\r\n",
        "\r\n"
      ]
    },
    {
      "cell_type": "code",
      "metadata": {
        "id": "pmOj_P_3jMWJ"
      },
      "source": [
        "def log_scale_model(dataset, target_column, log_column, scale):\r\n",
        "    # log scale on target column target_column\r\n",
        "    dataset[target_column] = data[target_column].apply(log_transform_clean)\r\n",
        "    \r\n",
        "    # log scale on columns 'sqft_lot' and 'sqft_lot15'\r\n",
        "    for i in log_column:\r\n",
        "        dataset[i] = dataset[i].apply(log_transform_clean)\r\n",
        "    # dropping the target feature\r\n",
        "    X = dataset.drop([target_column], axis=1)\r\n",
        "    y = dataset[target_column]\r\n",
        "\r\n",
        "    X_train, X_test, y_train, y_test = train_test_split(X, y, test_size=0.3, random_state=100)\r\n",
        "    \r\n",
        "    # removing the features that were trasformed with log\r\n",
        "    # X_train\r\n",
        "    X_train_log_features = pd.DataFrame()\r\n",
        "    for i in log_column:\r\n",
        "        X_train_log_features[i] = X_train[i]\r\n",
        "        X_train = X_train.drop([i], axis=1)\r\n",
        "    # X_test\r\n",
        "    X_test_log_features = pd.DataFrame()    \r\n",
        "    for i in log_column:\r\n",
        "        X_test_log_features[i] = X_test[i]\r\n",
        "        X_test = X_test.drop([i], axis=1)\r\n",
        "\r\n",
        "    # scale of the data\r\n",
        "    if scale == 'StandardScaler':\r\n",
        "        from sklearn.preprocessing import StandardScaler\r\n",
        "        sc = StandardScaler()\r\n",
        "        X_train = sc.fit_transform(X_train)\r\n",
        "        X_test = sc.transform (X_test)\r\n",
        "    elif scale == 'MinMaxScaler':\r\n",
        "        from sklearn.preprocessing import MinMaxScaler\r\n",
        "        minmax =  MinMaxScaler()\r\n",
        "        X_train = minmax.fit_transform(X_train)\r\n",
        "        X_test = minmax.transform (X_test)\r\n",
        "    elif scale == 'Normalizer':\r\n",
        "        # applying the normalizer\r\n",
        "        from sklearn.preprocessing import Normalizer\r\n",
        "        norm =  Normalizer()\r\n",
        "        X_train = norm.fit_transform(X_train)\r\n",
        "        X_test = norm.transform (X_test)\r\n",
        "        \r\n",
        "    \r\n",
        "    # reseting indexes for X_train and X_test and concatenating them with the features transformed with log\r\n",
        "    # X_train\r\n",
        "    X_train_log_features = X_train_log_features.reset_index()\r\n",
        "    X_train_log_features = X_train_log_features.drop(['index'], axis=1)\r\n",
        "    X_train = pd.DataFrame(X_train)\r\n",
        "    for i in log_column:\r\n",
        "        X_train = pd.concat([X_train, X_train_log_features[i]], axis=1)\r\n",
        "    # X_test\r\n",
        "    X_test_log_features = X_test_log_features.reset_index()\r\n",
        "    X_test_log_features = X_test_log_features.drop(['index'], axis=1)\r\n",
        "    X_test = pd.DataFrame(X_test)\r\n",
        "    for i in log_column:\r\n",
        "        X_test = pd.concat([X_test, X_test_log_features[i]], axis=1)\r\n",
        "    \r\n",
        "    # undoing the log of the target\r\n",
        "    y_train = np.exp(y_train)\r\n",
        "    y_test = np.exp(y_test)\r\n",
        "\r\n",
        "    # model evaluation\r\n",
        "    return model_evaluation(X_train, X_test, y_train, y_test)        \r\n",
        "    "
      ],
      "execution_count": null,
      "outputs": []
    },
    {
      "cell_type": "markdown",
      "metadata": {
        "id": "xQXNKjOGYOIB"
      },
      "source": [
        "# Model"
      ]
    },
    {
      "cell_type": "markdown",
      "metadata": {
        "id": "WPnCoFddq7Kg"
      },
      "source": [
        "**Prepared a master function to get the error metrics from the models and an automatic evaluation which model is best.**"
      ]
    },
    {
      "cell_type": "code",
      "metadata": {
        "id": "W186iTmAAV9J"
      },
      "source": [
        "def get_metrics(y_test,predictions,X_test):\r\n",
        "    from sklearn.metrics import mean_absolute_error, mean_squared_error, r2_score\r\n",
        "    from sklearn.metrics import r2_score\r\n",
        "\r\n",
        "    mae = round(mean_absolute_error(y_test,predictions),3)\r\n",
        "    mse = round(mean_squared_error(y_test,predictions),3)\r\n",
        "    root_mse = round(np.sqrt(mean_squared_error(y_test,predictions)),3)\r\n",
        "    r2 = round(r2_score(y_test, predictions),3)\r\n",
        "    N = len(X_test)\r\n",
        "    p = X_test.shape[1]\r\n",
        "    adj_r2 = 1-((1-r2)*(N-1)/(N-p-1))\r\n",
        "    adjusted_R2 = round(adj_r2, 2)\r\n",
        "    re = round(np.mean(np.abs((y_test - predictions) / y_test)), 2)\r\n",
        "    return mae, mse,root_mse,r2,adj_r2, re\r\n",
        "\r\n",
        "# run the data on each model and get metrics from them\r\n",
        "def model_evaluation(X_train, X_test, y_train, y_test, n_neighbors=4):\r\n",
        "    from sklearn.model_selection import train_test_split\r\n",
        "    from sklearn.linear_model import LinearRegression\r\n",
        "    from sklearn.metrics import mean_absolute_error, mean_squared_error, r2_score\r\n",
        "    from sklearn.metrics import r2_score\r\n",
        "    from sklearn import linear_model\r\n",
        "\r\n",
        "\r\n",
        "    # creates a dataframe to store de metrics\r\n",
        "    metrics = pd.DataFrame (columns = ['name','mae', 'mse', 'root_mse', 'r2', 'adjr2', 're'])    \r\n",
        "  \r\n",
        "    #LR\r\n",
        "    print('Linear Regression')\r\n",
        "    lm = linear_model.LinearRegression()\r\n",
        "    model = lm.fit(X_train,y_train)\r\n",
        "    predictions  = lm.predict(X_test)\r\n",
        "    sns.scatterplot(y = predictions, x = y_test)\r\n",
        "    plt.show()\r\n",
        "    mae, mse, root_mse, r2, adjr2, re = get_metrics(y_test,predictions,X_test)\r\n",
        "    metrics = metrics.append({'name':'Linear Regression','mae': mae, 'mse': mse, 'root_mse' : root_mse, 'r2' : r2, 'adjr2' : adjr2, 're':re}, ignore_index=True)\r\n",
        "   \r\n",
        "    #KNN   \r\n",
        "    print('KNeighbors Regressor')\r\n",
        "    from sklearn.neighbors import KNeighborsRegressor\r\n",
        "    knn_model = KNeighborsRegressor(n_neighbors=n_neighbors) \r\n",
        "    knn_model.fit(X_train, y_train)\r\n",
        "    predictions = knn_model.predict(X_test)\r\n",
        "    sns.scatterplot(y = predictions, x = y_test)\r\n",
        "    plt.show()\r\n",
        "    mae, mse, root_mse, r2, adjr2, re = get_metrics(y_test,predictions,X_test)\r\n",
        "    metrics = metrics.append({'name':'KNeighbors Regressor','mae': mae, 'mse': mse, 'root_mse' : root_mse, 'r2' : r2, 'adjr2' : adjr2, 're':re}, ignore_index=True)\r\n",
        "     \r\n",
        "    #MLPRegressor\r\n",
        "    print('MLP Regressor')\r\n",
        "    from sklearn.neural_network import MLPRegressor\r\n",
        "    from sklearn.datasets import make_regression\r\n",
        "    mlp_model = MLPRegressor(hidden_layer_sizes=(100), alpha=1e-05, max_iter=10, activation=\"relu\", random_state=1)\r\n",
        "    mlp_model.fit(X_train, y_train)\r\n",
        "    predictions = mlp_model.predict(X_test)\r\n",
        "    sns.scatterplot(y = predictions, x = y_test)\r\n",
        "    plt.show()\r\n",
        "    mae, mse, root_mse, r2, adjr2, re = get_metrics(y_test,predictions,X_test)\r\n",
        "    metrics = metrics.append({'name':'MLP Regressor','mae': mae, 'mse': mse, 'root_mse' : root_mse, 'r2' : r2, 'adjr2' : adjr2, 're':re}, ignore_index=True)\r\n",
        "   \r\n",
        "    #PolynomialFeatures (Josie)\r\n",
        "    print('Polynomial Features')\r\n",
        "    from sklearn.linear_model import Ridge\r\n",
        "    from sklearn.preprocessing import PolynomialFeatures\r\n",
        "    from sklearn.pipeline import make_pipeline\r\n",
        "    pf_model = make_pipeline(PolynomialFeatures(2), Ridge())\r\n",
        "    pf_model.fit(X_train, y_train)\r\n",
        "    predictions = pf_model.predict(X_test)\r\n",
        "    sns.scatterplot(y = predictions, x = y_test)\r\n",
        "    plt.show()        \r\n",
        "    mae, mse, root_mse, r2, adjr2, re = get_metrics(y_test,predictions,X_test)\r\n",
        "    metrics = metrics.append({'name':'Polynomial Features','mae': mae, 'mse': mse, 'root_mse' : root_mse, 'r2' : r2, 'adjr2' : adjr2, 're':re}, ignore_index=True)\r\n",
        "   \r\n",
        "    # DecisionTree (Josie)\r\n",
        "    print('Decision Tree')\r\n",
        "    from sklearn.tree import DecisionTreeRegressor\r\n",
        "    dt_model = DecisionTreeRegressor()\r\n",
        "    dt_model.fit(X_train, y_train)\r\n",
        "    predictions = dt_model.predict(X_test)\r\n",
        "    sns.scatterplot(y = predictions, x = y_test)\r\n",
        "    plt.show()        \r\n",
        "    mae, mse, root_mse, r2, adjr2, re = get_metrics(y_test,predictions,X_test)\r\n",
        "    metrics = metrics.append({'name':'Decision Tree','mae': mae, 'mse': mse, 'root_mse' : root_mse, 'r2' : r2, 'adjr2' : adjr2, 're':re}, ignore_index=True)\r\n",
        "     \r\n",
        "    #RandomForest (Josie)\r\n",
        "    print('Random Forest')\r\n",
        "    from sklearn.ensemble import RandomForestRegressor\r\n",
        "    rf_model = RandomForestRegressor()\r\n",
        "    rf_model.fit(X_train, y_train)\r\n",
        "    predictions = rf_model.predict(X_test)\r\n",
        "    sns.scatterplot(y = predictions, x = y_test)\r\n",
        "    plt.show()        \r\n",
        "    mae, mse, root_mse, r2, adjr2, re = get_metrics(y_test,predictions,X_test)\r\n",
        "    metrics = metrics.append({'name':'Random Forest','mae': mae, 'mse': mse, 'root_mse' : root_mse, 'r2' : r2, 'adjr2' : adjr2, 're':re}, ignore_index=True)\r\n",
        "     \r\n",
        "\r\n",
        "    # sort the metrics by R2\r\n",
        "    metrics = metrics.sort_values(by=['r2'],ascending=False)   \r\n",
        "    \r\n",
        "    # print the highest values\r\n",
        "    print(metrics['name'][metrics['mae'].idxmin()], 'has the lowest Mean Absolute Error')  \r\n",
        "    print(metrics['name'][metrics['mse'].idxmin()], 'has the lowest Mean Squared Error')       \r\n",
        "    print(metrics['name'][metrics['root_mse'].idxmin()], 'has the lowest Rooted Mean Squared Error')  \r\n",
        "    print(metrics['name'][metrics['r2'].idxmax()], 'has the highest R2' )    \r\n",
        "    print(metrics['name'][metrics['adjr2'].idxmax()], 'has the highest Adjusted R2')\r\n",
        "    print(metrics['name'][metrics['re'].idxmin()], 'has the lowest Relative Error')\r\n",
        "    \r\n",
        "    return metrics"
      ],
      "execution_count": null,
      "outputs": []
    },
    {
      "cell_type": "markdown",
      "metadata": {
        "id": "QMMCURqWrGy2"
      },
      "source": [
        "**Checking the model without any transformation on the dataset.**"
      ]
    },
    {
      "cell_type": "code",
      "metadata": {
        "id": "mOGz5BOMjSAI"
      },
      "source": [
        "from sklearn.model_selection import train_test_split\r\n",
        "X = data.drop(['price'], axis=1)\r\n",
        "y = data['price']\r\n",
        "\r\n",
        "X_train, X_test, y_train, y_test = train_test_split(X, y, test_size=0.3, random_state=100)\r\n",
        "model_evaluation(X_train, X_test, y_train, y_test)"
      ],
      "execution_count": null,
      "outputs": []
    },
    {
      "cell_type": "markdown",
      "metadata": {
        "id": "lRVdhLuXjSbF"
      },
      "source": [
        "error metrics for this attempt ('raw' data):"
      ]
    },
    {
      "cell_type": "markdown",
      "metadata": {
        "id": "d3aw9gndEDyR"
      },
      "source": [
        "#Attempt 1: Log Transformation\r\n",
        "We used the log transformation for all variables with high skewness (including the target)."
      ]
    },
    {
      "cell_type": "markdown",
      "metadata": {
        "id": "M1EGybLnMzO9"
      },
      "source": [
        "**Getting a copy of the fresh dataset**"
      ]
    },
    {
      "cell_type": "code",
      "metadata": {
        "id": "Sq9iCvdEM067"
      },
      "source": [
        "data_attempt_1 = data.copy()\r\n"
      ],
      "execution_count": null,
      "outputs": []
    },
    {
      "cell_type": "markdown",
      "metadata": {
        "id": "4kBZUrzzNCOA"
      },
      "source": [
        "**Log Transformation**"
      ]
    },
    {
      "cell_type": "code",
      "metadata": {
        "id": "ql0qecXXEOHR"
      },
      "source": [
        "def log_transform_clean(x):\r\n",
        "    x = np.log(x)\r\n",
        "    if np.isfinite(x):\r\n",
        "        return x\r\n",
        "    else:\r\n",
        "        return 0 \r\n",
        "      \r\n",
        "      \r\n",
        "# log transformation on target column 'price'\r\n",
        "data_attempt_1['price'] = data_attempt_1['price'].apply(log_transform_clean)\r\n",
        "sns.distplot(data_attempt_1['price']);\r\n",
        "plt.show()"
      ],
      "execution_count": null,
      "outputs": []
    },
    {
      "cell_type": "code",
      "metadata": {
        "id": "aLbad04c52Sl"
      },
      "source": [
        "# log transformation on columns 'sqft_lot' and 'sqft_lot15'\r\n",
        "data_attempt_1['sqft_lot'] = data_attempt_1['sqft_lot'].apply(log_transform_clean)\r\n",
        "sns.distplot(data_attempt_1['sqft_lot']);\r\n",
        "plt.show()\r\n",
        "\r\n",
        "data_attempt_1['sqft_lot15'] = data_attempt_1['sqft_lot15'].apply(log_transform_clean)\r\n",
        "sns.distplot(data_attempt_1['sqft_lot15']);\r\n",
        "plt.show()"
      ],
      "execution_count": null,
      "outputs": []
    },
    {
      "cell_type": "code",
      "metadata": {
        "id": "yej9TShV5zQB"
      },
      "source": [
        "from sklearn.model_selection import train_test_split  \r\n",
        "\r\n",
        "# dropping the target feature\r\n",
        "X = data_attempt_1.drop(['price'], axis=1)\r\n",
        "y = data_attempt_1['price']\r\n",
        "X_train, X_test, y_train, y_test = train_test_split(X, y, test_size=0.3, random_state=100)"
      ],
      "execution_count": null,
      "outputs": []
    },
    {
      "cell_type": "code",
      "metadata": {
        "id": "U9NNmogj55E1"
      },
      "source": [
        "# undoing the log of the target\r\n",
        "y_train = np.exp(y_train)\r\n",
        "y_test = np.exp(y_test)\r\n",
        "\r\n",
        "# model evaluation\r\n",
        "model_evaluation(X_train, X_test, y_train, y_test)"
      ],
      "execution_count": null,
      "outputs": []
    },
    {
      "cell_type": "markdown",
      "metadata": {
        "id": "MFRg8HWQI1HQ"
      },
      "source": [
        "error metrics for attempt 1:\r\n",
        "\r\n",
        "![a1.png](data:image/png;base64,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)"
      ]
    },
    {
      "cell_type": "markdown",
      "metadata": {
        "id": "XkPEWPNX0xpe"
      },
      "source": [
        "# Attempt 2: drop lat and long"
      ]
    },
    {
      "cell_type": "markdown",
      "metadata": {
        "id": "f8P8oJ7nGnDo"
      },
      "source": [
        "## Log & StandardScaler\r\n",
        "- Logarithm transformation on columns sqft_lot and sqft_log15 and Standard Scaler on the rest of features. We also dropped lat and long columns for this attempt"
      ]
    },
    {
      "cell_type": "markdown",
      "metadata": {
        "id": "YujLszGa7ZNf"
      },
      "source": [
        "**Creating a copy of the data set**"
      ]
    },
    {
      "cell_type": "code",
      "metadata": {
        "id": "l7ghBW6c7eR_"
      },
      "source": [
        "data_attempt_2 = data.copy()\r\n",
        "data_attempt_2 = data_attempt_2.drop(['lat'], axis=1)\r\n",
        "data_attempt_2 = data_attempt_2.drop(['long'], axis=1)\r\n"
      ],
      "execution_count": null,
      "outputs": []
    },
    {
      "cell_type": "code",
      "metadata": {
        "id": "GYc4gYjnjg4v"
      },
      "source": [
        "log_scale_model(data_attempt_2, 'price', ['sqft_lot','sqft_lot15'], 'StandardScaler')"
      ],
      "execution_count": null,
      "outputs": []
    },
    {
      "cell_type": "markdown",
      "metadata": {
        "id": "DnXFjijlk6d-"
      },
      "source": [
        "## Log & Min Max Scaler\r\n",
        "- We did the logarithmic transformation on the same columns, and applied Min Max Scaler. We also dropped lat and long columns"
      ]
    },
    {
      "cell_type": "markdown",
      "metadata": {
        "id": "G3735Pqv8Py8"
      },
      "source": [
        "**Creating a copy of the data set**"
      ]
    },
    {
      "cell_type": "code",
      "metadata": {
        "id": "PXbPqv0e8JmX"
      },
      "source": [
        "data_attempt_2 = data.copy()\r\n",
        "data_attempt_2 = data_attempt_2.drop(['lat'], axis=1)\r\n",
        "data_attempt_2 = data_attempt_2.drop(['long'], axis=1)"
      ],
      "execution_count": null,
      "outputs": []
    },
    {
      "cell_type": "code",
      "metadata": {
        "id": "UZIn_eynjpmB"
      },
      "source": [
        "log_scale_model(data_attempt_2, 'price', ['sqft_lot','sqft_lot15'], 'MinMaxScaler')"
      ],
      "execution_count": null,
      "outputs": []
    },
    {
      "cell_type": "markdown",
      "metadata": {
        "id": "G4mkcTuolyY0"
      },
      "source": [
        "## Log & Normalizer\r\n",
        "\r\n",
        "- We did the logarithmic transformation on the same columns, and applied Normalizer. In this attempt we also dropped lat and long columns"
      ]
    },
    {
      "cell_type": "markdown",
      "metadata": {
        "id": "Tw0TDNSD8VE5"
      },
      "source": [
        "**Creating a copy of the data set**"
      ]
    },
    {
      "cell_type": "code",
      "metadata": {
        "id": "mgDGMiTV9ZcR"
      },
      "source": [
        "data_attempt_3 = data.copy()\r\n",
        "data_attempt_3= data_attempt_3.drop(['lat'], axis=1)\r\n",
        "data_attempt_3 = data_attempt_3.drop(['long'], axis=1)"
      ],
      "execution_count": null,
      "outputs": []
    },
    {
      "cell_type": "code",
      "metadata": {
        "id": "MQwOoQwHjwKy"
      },
      "source": [
        "log_scale_model(data_attempt_3, 'price', ['sqft_lot','sqft_lot15'], 'MinMaxScaler')"
      ],
      "execution_count": null,
      "outputs": []
    },
    {
      "cell_type": "markdown",
      "metadata": {
        "id": "SC_d-I-mJjoO"
      },
      "source": [
        "> ...only tiny improvements of the model."
      ]
    },
    {
      "cell_type": "markdown",
      "metadata": {
        "id": "TW8rPg07jwRF"
      },
      "source": [
        "# Attempt 3: using location (lat/long) in the predictions\r\n",
        "Another attempt, this time with removing ID duplicates and using latitude and longitude in our models to see if it improves our metrics\r\n",
        "\r\n"
      ]
    },
    {
      "cell_type": "markdown",
      "metadata": {
        "id": "iapP96up8bmC"
      },
      "source": [
        "**Creating a copy of the fresh data set**\r\n",
        "\r\n",
        "dropping duplicates in the 'ID' column and dropping it after\r\n"
      ]
    },
    {
      "cell_type": "code",
      "metadata": {
        "id": "6TFPF7AHj6pd"
      },
      "source": [
        "data_attempt_3 = pd.read_sql_query('SELECT * from house_price_data', engine)\r\n",
        "\r\n",
        "data_attempt_3.shape\r\n",
        "\r\n",
        "data_attempt_3 = data_attempt_3.drop_duplicates('id', keep='last')\r\n",
        "\r\n",
        "data_attempt_3.shape\r\n",
        "\r\n",
        "data_attempt_3 = data_attempt_3.drop(['id'], axis=1)"
      ],
      "execution_count": null,
      "outputs": []
    },
    {
      "cell_type": "markdown",
      "metadata": {
        "id": "8iejKY2-kvU1"
      },
      "source": [
        "**Exploration of the data**"
      ]
    },
    {
      "cell_type": "code",
      "metadata": {
        "id": "IJ56F8vvkBFa"
      },
      "source": [
        "data_attempt_3.info()"
      ],
      "execution_count": null,
      "outputs": []
    },
    {
      "cell_type": "code",
      "metadata": {
        "id": "Y9SWFC5ykB0l"
      },
      "source": [
        "data_attempt_3.describe()"
      ],
      "execution_count": null,
      "outputs": []
    },
    {
      "cell_type": "markdown",
      "metadata": {
        "id": "LiUEN4DgLhhG"
      },
      "source": [
        "**Splitting the data in continuous and discrete**"
      ]
    },
    {
      "cell_type": "code",
      "metadata": {
        "id": "-0wySImTkB3w"
      },
      "source": [
        "continuous_data = pd.DataFrame()\r\n",
        "discrete_data = pd.DataFrame()\r\n",
        "\r\n",
        "for i in data_attempt_3:\r\n",
        "    if len(data_attempt_3[i].unique()) < 120:\r\n",
        "        discrete_data[i] = data_attempt_3[i]\r\n",
        "    else:\r\n",
        "        continuous_data[i] = data_attempt_3[i]"
      ],
      "execution_count": null,
      "outputs": []
    },
    {
      "cell_type": "code",
      "metadata": {
        "id": "IfdvSUT_kB7u"
      },
      "source": [
        "for i in data_attempt_3.columns.tolist():         \r\n",
        "    print(i, len(data[i].unique()))"
      ],
      "execution_count": null,
      "outputs": []
    },
    {
      "cell_type": "code",
      "metadata": {
        "id": "lQZb7QN0kB_V"
      },
      "source": [
        "for i in continuous_data:\r\n",
        "    print(i)\r\n",
        "    sns.distplot(data_attempt_3[i], bins=20)\r\n",
        "    plt.show()"
      ],
      "execution_count": null,
      "outputs": []
    },
    {
      "cell_type": "markdown",
      "metadata": {
        "id": "UpTLJ2XBlTg7"
      },
      "source": [
        "**Outliers check**"
      ]
    },
    {
      "cell_type": "code",
      "metadata": {
        "id": "4sX68FOUlNbU"
      },
      "source": [
        "outliers_list = pd.DataFrame (columns = ['name', 'perc'])\r\n",
        "def get_outliers(data_attempt_3):\r\n",
        "    outliers_list = pd.DataFrame (columns = ['name', 'perc'])\r\n",
        "    for i in data_attempt_3:  \r\n",
        "        iqr = np.percentile(data_attempt_3[i],75) - np.percentile(data_attempt_3[i],25)\r\n",
        "        upper_limit = np.percentile(data_attempt_3[i],75) + 1.5*iqr    \r\n",
        "        outliers = data_attempt_3[data_attempt_3[i] > upper_limit].index.tolist()       \r\n",
        "        \r\n",
        "        \r\n",
        "        if len(outliers) > 0:\r\n",
        "            print (i)\r\n",
        "            print(\"The upper whisker is at: %4.2f\" % upper_limit)\r\n",
        "            print(\"The number of points outside the upper whisker is: \",len(outliers))\r\n",
        "            print(\"Percentage from total\", round(len(outliers)*100/len(data_attempt_3[i]),2), '%')\r\n",
        "            ax, fig = plt.subplots(figsize = (20,2)) #I added boxplots to vizualize the outliers - feel free to remove if you don't find it useful (Josie)\r\n",
        "            sns.boxplot(x=i, data=data_attempt_3)\r\n",
        "            plt.show()\r\n",
        "        else:\r\n",
        "            print (i, 'has no outliers')\r\n",
        "        print()\r\n",
        "        \r\n",
        "        perc = round(len(outliers)*100/len(data_attempt_3[i]),2)\r\n",
        "        outliers_list = outliers_list.append({'name': i, 'perc': perc}, ignore_index=True)\r\n",
        "    outliers_list = outliers_list.sort_values(by=['perc'],ascending=False)\r\n",
        "    return outliers_list\r\n",
        "        \r\n",
        "\r\n",
        "get_outliers(data_attempt_3)\r\n"
      ],
      "execution_count": null,
      "outputs": []
    },
    {
      "cell_type": "markdown",
      "metadata": {
        "id": "3dz3OllwlenD"
      },
      "source": [
        "**Getting the Skewness, kurtosis and Q-Q plot of the new dataset**"
      ]
    },
    {
      "cell_type": "code",
      "metadata": {
        "id": "9ImxF7dhlNfd"
      },
      "source": [
        "from scipy.stats import skew\r\n",
        "continuous_data.apply(skew)"
      ],
      "execution_count": null,
      "outputs": []
    },
    {
      "cell_type": "code",
      "metadata": {
        "id": "STdLf1vulNj1"
      },
      "source": [
        "from scipy.stats import kurtosis\r\n",
        "for i in continuous_data:\r\n",
        "    print(i, '--------', kurtosis(continuous_data[i]))"
      ],
      "execution_count": null,
      "outputs": []
    },
    {
      "cell_type": "code",
      "metadata": {
        "id": "iLuQhFdAlNnp"
      },
      "source": [
        "from statsmodels.graphics.gofplots import qqplot\r\n",
        "from matplotlib import pyplot\r\n",
        " \r\n",
        "cols = list(continuous_data.columns)\r\n",
        "for col in cols:\r\n",
        "    print('Q-Q plot for variable:', col)\r\n",
        "    qqplot(continuous_data[col], line='s')\r\n",
        "    plt.show()"
      ],
      "execution_count": null,
      "outputs": []
    },
    {
      "cell_type": "markdown",
      "metadata": {
        "id": "fWcLf-E0l0JK"
      },
      "source": [
        "**Cleaning the data**"
      ]
    },
    {
      "cell_type": "code",
      "metadata": {
        "id": "o-n9MSPxlNrp"
      },
      "source": [
        "data_attempt_3['bedrooms'] = data_attempt_3['bedrooms'].replace(33, 3)"
      ],
      "execution_count": null,
      "outputs": []
    },
    {
      "cell_type": "markdown",
      "metadata": {
        "id": "cF7V0oCZmANM"
      },
      "source": [
        "**Checking the correlation matrix**"
      ]
    },
    {
      "cell_type": "code",
      "metadata": {
        "id": "qT1n5WH8l48Q"
      },
      "source": [
        "corr_data = data_attempt_3\r\n",
        " \r\n",
        "correlations_matrix = corr_data.corr()\r\n",
        "mask = np.zeros_like(correlations_matrix)\r\n",
        "mask[np.triu_indices_from(mask)] = True\r\n",
        "fig, ax = plt.subplots(figsize=(10, 8))\r\n",
        "ax = sns.heatmap(correlations_matrix, mask=mask, annot=True)\r\n",
        "plt.show() # Half correlation matrix"
      ],
      "execution_count": null,
      "outputs": []
    },
    {
      "cell_type": "markdown",
      "metadata": {
        "id": "ZuevxRLmmGJw"
      },
      "source": [
        "**Data** **transformation**"
      ]
    },
    {
      "cell_type": "markdown",
      "metadata": {
        "id": "nT-2L9QAm2Rm"
      },
      "source": [
        "## Log & Standard Scaler"
      ]
    },
    {
      "cell_type": "code",
      "metadata": {
        "id": "mcwN1pWjj8UZ"
      },
      "source": [
        "log_scale_model(data_attempt_3, 'price', ['sqft_lot','sqft_lot15'], 'StandardScaler')"
      ],
      "execution_count": null,
      "outputs": []
    },
    {
      "cell_type": "markdown",
      "metadata": {
        "id": "PtetaLJunK22"
      },
      "source": [
        "## Log & Min Max Scaler"
      ]
    },
    {
      "cell_type": "code",
      "metadata": {
        "id": "GSJDIMrMkA2z"
      },
      "source": [
        "log_scale_model(data_attempt_3, 'price', ['sqft_lot','sqft_lot15'], 'MinMaxScaler')"
      ],
      "execution_count": null,
      "outputs": []
    },
    {
      "cell_type": "markdown",
      "metadata": {
        "id": "ik__JIblnRli"
      },
      "source": [
        "## Log & Normalizer"
      ]
    },
    {
      "cell_type": "code",
      "metadata": {
        "id": "uEMJCsr5kEjv"
      },
      "source": [
        "log_scale_model(data_attempt_3, 'price', ['sqft_lot','sqft_lot15'], 'Normalizer')"
      ],
      "execution_count": null,
      "outputs": []
    },
    {
      "cell_type": "markdown",
      "metadata": {
        "id": "pYAzP-gLXhR2"
      },
      "source": [
        "# Attempt 4: Location & Distance, Log & StandardScaler\r\n",
        "We used the latitude and longitude to generate the distance (in miles) to the nearest major city Seattle to check if the distance is correlated to our target."
      ]
    },
    {
      "cell_type": "markdown",
      "metadata": {
        "id": "6BI4wdN48Y-x"
      },
      "source": [
        "**Creating a copy of the data set**"
      ]
    },
    {
      "cell_type": "code",
      "metadata": {
        "id": "tPBNZ9Uj8ptv"
      },
      "source": [
        "data_attempt_4 = data.copy()"
      ],
      "execution_count": null,
      "outputs": []
    },
    {
      "cell_type": "markdown",
      "metadata": {
        "id": "Nu2JOuDtK46E"
      },
      "source": [
        "**Checking if the distance to Seattle affects the prices**"
      ]
    },
    {
      "cell_type": "code",
      "metadata": {
        "id": "oL503PYkXirA"
      },
      "source": [
        "from haversine import haversine_vector, Unit,haversine\r\n",
        "seattle = tuple([47.608013, -122.335167])\r\n",
        "data_attempt_4['location'] = tuple(zip(data_attempt_4['lat'], data_attempt_4['long']))\r\n",
        "\r\n",
        "dist_seattle = []\r\n",
        "for i in data_attempt_4['location']:\r\n",
        "    dist_seattle. append(haversine((seattle),(i),unit = 'mi'))\r\n",
        "\r\n",
        "data_attempt_4['distance_to_seattle'] = pd.Series(dist_seattle)\r\n",
        "data_attempt_4 = data_attempt_4.drop(['lat','long', 'location'],axis=1)\r\n",
        "data_attempt_4.head()"
      ],
      "execution_count": null,
      "outputs": []
    },
    {
      "cell_type": "code",
      "metadata": {
        "id": "9XO1F_5kkKaN"
      },
      "source": [
        "log_scale_model(data_attempt_4, 'price', ['sqft_lot','sqft_lot15'], 'StandardScaler')"
      ],
      "execution_count": null,
      "outputs": []
    },
    {
      "cell_type": "markdown",
      "metadata": {
        "id": "RlQY2sAWKfXV"
      },
      "source": [
        "> ...improvement of KNeighbors Regressor; the others are stable or even decrease a tiny bit in performance"
      ]
    },
    {
      "cell_type": "markdown",
      "metadata": {
        "id": "tOeIQHzEEYjX"
      },
      "source": [
        "# Attempt 5: Drop 'sqft_above', Log & StandardScaler\r\n",
        "We dropped the column 'sqft_above' in this attempt because it has the highest correlation outside of the target and also has a high-ish correlation with the target (0.61)."
      ]
    },
    {
      "cell_type": "markdown",
      "metadata": {
        "id": "rtay367oMw-r"
      },
      "source": [
        "**Getting a copy of the fresh dataset**"
      ]
    },
    {
      "cell_type": "code",
      "metadata": {
        "id": "F8zWkVydEpg2"
      },
      "source": [
        "data_attempt_5 = data.copy()\r\n",
        "data_attempt_5 = data_attempt_5.drop(['sqft_above'],axis=1)\r\n",
        "data_attempt_5.head()"
      ],
      "execution_count": null,
      "outputs": []
    },
    {
      "cell_type": "code",
      "metadata": {
        "id": "CFCeCgC9kQ-C"
      },
      "source": [
        "log_scale_model(data_attempt_5, 'price', ['sqft_lot','sqft_lot15'], 'StandardScaler')"
      ],
      "execution_count": null,
      "outputs": []
    },
    {
      "cell_type": "markdown",
      "metadata": {
        "id": "ZWpymVovLf4A"
      },
      "source": [
        "> ...no significant changes."
      ]
    },
    {
      "cell_type": "markdown",
      "metadata": {
        "id": "h3vH5Pl3FJzk"
      },
      "source": [
        "# Attempt 6: Group 'yr_renovated', Log & StandardScaler\r\n",
        "We grouped the column 'yr_renovated' into 0 (=not renovated) and 1 (=renovated) to see if this changes our prediction."
      ]
    },
    {
      "cell_type": "markdown",
      "metadata": {
        "id": "rJh78jlNNYIK"
      },
      "source": [
        "**Getting a copy of the fresh dataset**"
      ]
    },
    {
      "cell_type": "code",
      "metadata": {
        "id": "pQ3W7WhUNa3D"
      },
      "source": [
        "data_attempt_6 = data.copy()"
      ],
      "execution_count": null,
      "outputs": []
    },
    {
      "cell_type": "markdown",
      "metadata": {
        "id": "-8rX5HTVNjrA"
      },
      "source": [
        "**Grouping the colum 'yr_renovated'**"
      ]
    },
    {
      "cell_type": "code",
      "metadata": {
        "id": "iibe2oPCFhzh"
      },
      "source": [
        "\r\n",
        "renovation = []\r\n",
        "\r\n",
        "for x in data_attempt_6['yr_renovated']:\r\n",
        "    if x == 0:\r\n",
        "        renovation.append(0)\r\n",
        "    else:\r\n",
        "        renovation.append(1)\r\n",
        "\r\n",
        "\r\n",
        "data_attempt_6['renovation'] = renovation\r\n",
        "data_attempt_6 = data_attempt_6.drop(['yr_renovated'],axis=1)\r\n",
        "data_attempt_6.head()"
      ],
      "execution_count": null,
      "outputs": []
    },
    {
      "cell_type": "code",
      "metadata": {
        "id": "vzC-S5D6kV1h"
      },
      "source": [
        "log_scale_model(data_attempt_6, 'price', ['sqft_lot','sqft_lot15'], 'StandardScaler')"
      ],
      "execution_count": null,
      "outputs": []
    },
    {
      "cell_type": "markdown",
      "metadata": {
        "id": "daMGtHmlN7uU"
      },
      "source": [
        "> ...no significant changes."
      ]
    },
    {
      "cell_type": "markdown",
      "metadata": {
        "id": "wgIgmq53GAx5"
      },
      "source": [
        "# Attempt 7: Get 'city', remove 'zipcode' instead, Log & StandardScaler"
      ]
    },
    {
      "cell_type": "markdown",
      "metadata": {
        "id": "aReRzW1sN7x-"
      },
      "source": [
        "**Getting a fresh copy of the dataset**"
      ]
    },
    {
      "cell_type": "code",
      "metadata": {
        "id": "7rzZOiNJN_Oh"
      },
      "source": [
        "data_attempt_7 = data.copy()\r\n"
      ],
      "execution_count": null,
      "outputs": []
    },
    {
      "cell_type": "markdown",
      "metadata": {
        "id": "kdvmDbbXOEQ6"
      },
      "source": [
        "**Turning the zipcode into a city name and addint it as a new column**"
      ]
    },
    {
      "cell_type": "code",
      "metadata": {
        "id": "oRY_rh-8GOJV"
      },
      "source": [
        "from uszipcode import Zipcode,SearchEngine\r\n",
        "\r\n",
        "def get_city_name(x):\r\n",
        "    search = SearchEngine(simple_zipcode=True)\r\n",
        "    zipcode=search.by_zipcode(x)\r\n",
        "    return zipcode.major_city\r\n",
        "\r\n",
        "data_attempt_7['city'] = list(map(get_city_name, data_attempt_7['zipcode']))"
      ],
      "execution_count": null,
      "outputs": []
    },
    {
      "cell_type": "code",
      "metadata": {
        "id": "YpBgaQ2SGVFU"
      },
      "source": [
        "data_attempt_7['city'].value_counts()"
      ],
      "execution_count": null,
      "outputs": []
    },
    {
      "cell_type": "code",
      "metadata": {
        "id": "y6NstPIfGW5b"
      },
      "source": [
        "data_attempt_7 = data_attempt_7.drop(['zipcode'],axis=1)\r\n",
        "data_attempt_7.head()"
      ],
      "execution_count": null,
      "outputs": []
    },
    {
      "cell_type": "code",
      "metadata": {
        "id": "imDQ1R5qGacM"
      },
      "source": [
        "dummy = pd.get_dummies(data=data_attempt_7[['city']], columns=['city'],drop_first=True)"
      ],
      "execution_count": null,
      "outputs": []
    },
    {
      "cell_type": "code",
      "metadata": {
        "id": "Sv78fNTQGcjg"
      },
      "source": [
        "rest_ = data_attempt_7.drop(['city'], axis=1)\r\n",
        "data_attempt_7 = pd.concat([dummy, rest_], axis=1)\r\n",
        "data_attempt_7.head()"
      ],
      "execution_count": null,
      "outputs": []
    },
    {
      "cell_type": "code",
      "metadata": {
        "id": "8im3gf2wkbLH"
      },
      "source": [
        "log_scale_model(data_attempt_7, 'price', ['sqft_lot','sqft_lot15'], 'StandardScaler')"
      ],
      "execution_count": null,
      "outputs": []
    },
    {
      "cell_type": "markdown",
      "metadata": {
        "id": "krKiWjPGOH1n"
      },
      "source": [
        "> ...this improved all models apart from MLP Regressor."
      ]
    },
    {
      "cell_type": "markdown",
      "metadata": {
        "id": "2vG1LSbFKr54"
      },
      "source": [
        "# Attempt 8: Bins, Standard Scaler, MinMax Scaler and Normalizer"
      ]
    },
    {
      "cell_type": "markdown",
      "metadata": {
        "id": "haVyx0RzOh64"
      },
      "source": [
        "**Getting a fresh copy on the dataset**"
      ]
    },
    {
      "cell_type": "code",
      "metadata": {
        "id": "aNRPIBmhKzqJ"
      },
      "source": [
        "data_attempt_8 = data.copy()"
      ],
      "execution_count": null,
      "outputs": []
    },
    {
      "cell_type": "code",
      "metadata": {
        "id": "ogDrBe56Kz1V"
      },
      "source": [
        "data_attempt_8.describe()"
      ],
      "execution_count": null,
      "outputs": []
    },
    {
      "cell_type": "code",
      "metadata": {
        "id": "JwRKQiv_Kz5G"
      },
      "source": [
        "data_attempt_8['bedrooms'].value_counts()"
      ],
      "execution_count": null,
      "outputs": []
    },
    {
      "cell_type": "code",
      "metadata": {
        "id": "O8QJKO-jKz9U"
      },
      "source": [
        "data_attempt_8['bathrooms'].value_counts()"
      ],
      "execution_count": null,
      "outputs": []
    },
    {
      "cell_type": "markdown",
      "metadata": {
        "id": "VwOZq_XKOm7e"
      },
      "source": [
        "**Creating bins to see if the smaller data intervals will improve the mode**"
      ]
    },
    {
      "cell_type": "code",
      "metadata": {
        "id": "7UCRdd1nK0DT"
      },
      "source": [
        "def sqft_living_bins(x):\r\n",
        "    \r\n",
        "    if ( 1 <= x and x <= 2000): \r\n",
        "        return 1\r\n",
        "    elif ( 2001 <= x and x <= 4000):\r\n",
        "        return 2\r\n",
        "    elif ( 4001 <= x and x <= 6000):\r\n",
        "        return 3\r\n",
        "    elif ( 8000 <= x and x <= 10000):\r\n",
        "        return 4\r\n",
        "    else:\r\n",
        "        return 5"
      ],
      "execution_count": null,
      "outputs": []
    },
    {
      "cell_type": "code",
      "metadata": {
        "id": "ML8roaWvK0Il"
      },
      "source": [
        "data_attempt_8['sqft_bin'] = data_attempt_8['sqft_living'].apply(sqft_living_bins)"
      ],
      "execution_count": null,
      "outputs": []
    },
    {
      "cell_type": "code",
      "metadata": {
        "id": "-EtsAem3K0NO"
      },
      "source": [
        "data_attempt_8['sqft_bin'].unique()"
      ],
      "execution_count": null,
      "outputs": []
    },
    {
      "cell_type": "code",
      "metadata": {
        "id": "KIVtLaaGK0RH"
      },
      "source": [
        "def price_bins(x):\r\n",
        "    \r\n",
        "    if ( 1 <= x and x <= 270000): \r\n",
        "        return 1\r\n",
        "    elif ( 270001 <= x and x <= 400000):\r\n",
        "        return 2\r\n",
        "    elif ( 400001 <= x and x <= 700000):\r\n",
        "        return 3\r\n",
        "    elif ( 700001 <= x and x <=1000000):\r\n",
        "        return 4\r\n",
        "    else:\r\n",
        "        return 5"
      ],
      "execution_count": null,
      "outputs": []
    },
    {
      "cell_type": "code",
      "metadata": {
        "id": "yv5J09l0K0VD"
      },
      "source": [
        "data_attempt_8['price_bin'] = data_attempt_8['price'].apply(price_bins)"
      ],
      "execution_count": null,
      "outputs": []
    },
    {
      "cell_type": "code",
      "metadata": {
        "id": "i1LcokzOK0ZZ"
      },
      "source": [
        "data_attempt_8['price_bin'].unique()"
      ],
      "execution_count": null,
      "outputs": []
    },
    {
      "cell_type": "code",
      "metadata": {
        "id": "y4rBtfiSOc5O"
      },
      "source": [
        "def sqft_basement_f(data):\r\n",
        "    sqft_bin = []\r\n",
        "    for x in data:\r\n",
        "        if x in range(0,1):\r\n",
        "            sqft_bin.append('1')\r\n",
        "        elif x in range(2,800):\r\n",
        "            sqft_bin.append('2')\r\n",
        "        elif x in range(801,1600):\r\n",
        "            sqft_bin.append('3')\r\n",
        "        elif x in range(1601,2400):\r\n",
        "            sqft_bin.append('4')\r\n",
        "        elif x in range(2401, 3200):\r\n",
        "            sqft_bin.append('5')\r\n",
        "        else:\r\n",
        "            sqft_bin.append('6')\r\n",
        "    return sqft_bin \r\n",
        "\r\n",
        " \r\n",
        "data_attempt_8['basement_bin']=sqft_basement_f(data_attempt_8['sqft_basement'])"
      ],
      "execution_count": null,
      "outputs": []
    },
    {
      "cell_type": "code",
      "metadata": {
        "id": "L8uXiIxVK0dt"
      },
      "source": [
        "data_attempt_8.head()"
      ],
      "execution_count": null,
      "outputs": []
    },
    {
      "cell_type": "code",
      "metadata": {
        "id": "XvIfIzi3K0h7"
      },
      "source": [
        "sns.histplot(data=data_attempt_8, x=\"bedrooms\", kde=True)"
      ],
      "execution_count": null,
      "outputs": []
    },
    {
      "cell_type": "code",
      "metadata": {
        "id": "AONUbjdnK0mM"
      },
      "source": [
        "sns.histplot(data=data_attempt_8, x=\"bathrooms\", kde=True)"
      ],
      "execution_count": null,
      "outputs": []
    },
    {
      "cell_type": "code",
      "metadata": {
        "id": "CWuMaaTZK0sy"
      },
      "source": [
        "sns.histplot(data=data_attempt_8, x=\"sqft_bin\", kde=True)"
      ],
      "execution_count": null,
      "outputs": []
    },
    {
      "cell_type": "code",
      "metadata": {
        "id": "juOfOLVRK0yY"
      },
      "source": [
        "sns.histplot(data=data_attempt_8, x=\"price_bin\", kde=True)"
      ],
      "execution_count": null,
      "outputs": []
    },
    {
      "cell_type": "code",
      "metadata": {
        "id": "kfAItzAlK08V"
      },
      "source": [
        "sns.histplot(data=data_attempt_8, x='basement_bin', kde=True)"
      ],
      "execution_count": null,
      "outputs": []
    },
    {
      "cell_type": "markdown",
      "metadata": {
        "id": "S0K48CicO48N"
      },
      "source": [
        "We clearly see, that there are some dominant bins:\r\n",
        "- for sqft_living bins 1 and 2 \r\n",
        "- for basement 1 (which means, that most people don't have a basement) \r\n",
        "- for price the biggest bin is 3 (700.000-1000.0000)."
      ]
    },
    {
      "cell_type": "markdown",
      "metadata": {
        "id": "o0bMK6-_PKUb"
      },
      "source": [
        "**Getting a fresh dataset for the next bin attempt**"
      ]
    },
    {
      "cell_type": "code",
      "metadata": {
        "id": "X7fColNlMJoJ"
      },
      "source": [
        "data_attempt_8_1= data_attempt_8.copy()"
      ],
      "execution_count": null,
      "outputs": []
    },
    {
      "cell_type": "code",
      "metadata": {
        "id": "1IMeZELGL-md"
      },
      "source": [
        "data_attempt_8 = data_attempt_8.drop(['sqft_living', 'sqft_basement', 'price'], axis=1)"
      ],
      "execution_count": null,
      "outputs": []
    },
    {
      "cell_type": "markdown",
      "metadata": {
        "id": "pdFUjDDoQyaP"
      },
      "source": [
        "## Standard Scaler"
      ]
    },
    {
      "cell_type": "code",
      "metadata": {
        "id": "ms_GaFkuP3VT"
      },
      "source": [
        "from sklearn.model_selection import train_test_split        \r\n",
        "from sklearn.preprocessing import StandardScaler\r\n",
        "# dropping the target feature\r\n",
        "X = data_attempt_8.drop(['price_bin'], axis=1)\r\n",
        "y = data_attempt_8['price_bin']\r\n",
        "\r\n",
        "X_train, X_test, y_train, y_test = train_test_split(X, y, test_size=0.3, random_state=100)\r\n",
        "\r\n",
        "# applying the standard scaler\r\n",
        "sc = StandardScaler()\r\n",
        "X_train = sc.fit_transform(X_train)\r\n",
        "X_test = sc.transform (X_test)\r\n",
        "\r\n",
        "# model evaluation\r\n",
        "model_evaluation(X_train, X_test, y_train, y_test)"
      ],
      "execution_count": null,
      "outputs": []
    },
    {
      "cell_type": "markdown",
      "metadata": {
        "id": "h1s9eOxhZkgH"
      },
      "source": [
        "## Min Max Scaler"
      ]
    },
    {
      "cell_type": "code",
      "metadata": {
        "id": "iYmFBN0wQyaW"
      },
      "source": [
        "from sklearn.model_selection import train_test_split  \r\n",
        "\r\n",
        "# dropping the target feature\r\n",
        "X = data_attempt_8.drop(['price_bin'], axis=1)\r\n",
        "y = data_attempt_8['price_bin']\r\n",
        "X_train, X_test, y_train, y_test = train_test_split(X, y, test_size=0.3, random_state=100)\r\n",
        "\r\n",
        "# applying the MinMaxScaler\r\n",
        "from sklearn.preprocessing import MinMaxScaler\r\n",
        "minmax =  MinMaxScaler()\r\n",
        "X_train = minmax.fit_transform(X_train)\r\n",
        "X_test = minmax.transform (X_test)\r\n",
        "\r\n",
        "# model evaluation\r\n",
        "model_evaluation(X_train, X_test, y_train, y_test)"
      ],
      "execution_count": null,
      "outputs": []
    },
    {
      "cell_type": "markdown",
      "metadata": {
        "id": "tUER0yZKS4Tn"
      },
      "source": [
        "\r\n",
        "\r\n",
        "## Normalizer\r\n"
      ]
    },
    {
      "cell_type": "code",
      "metadata": {
        "id": "xGafQ4BkL-1O"
      },
      "source": [
        "# dropping the target feature\r\n",
        "X = data_attempt_8.drop(['price_bin'], axis=1)\r\n",
        "y = data_attempt_8['price_bin']\r\n",
        "X_train, X_test, y_train, y_test = train_test_split(X, y, test_size=0.3, random_state=100)\r\n",
        "\r\n",
        "from sklearn.preprocessing import Normalizer\r\n",
        "norm =  Normalizer()\r\n",
        "X_train = norm.fit_transform(X_train)\r\n",
        "X_test = norm.transform (X_test)\r\n",
        "# model evaluation\r\n",
        "model_evaluation(X_train, X_test, y_train, y_test)"
      ],
      "execution_count": null,
      "outputs": []
    },
    {
      "cell_type": "markdown",
      "metadata": {
        "id": "_OIxTz2b73of"
      },
      "source": [
        "## Attempt 8.1: Target feature not binned"
      ]
    },
    {
      "cell_type": "markdown",
      "metadata": {
        "id": "fq1xXyCDZtrF"
      },
      "source": [
        "\r\n",
        "For another attempt with bins we will leave the price outside them\r\n",
        "\r\n"
      ]
    },
    {
      "cell_type": "code",
      "metadata": {
        "id": "f2iMncOzL_LG"
      },
      "source": [
        "data_attempt_8_1 = data_attempt_8_1.drop(['sqft_living', 'sqft_basement', 'price_bin'], axis=1)"
      ],
      "execution_count": null,
      "outputs": []
    },
    {
      "cell_type": "code",
      "metadata": {
        "id": "qyROn6luev56"
      },
      "source": [
        " # log transformation on target column 'price'\r\n",
        "data_attempt_8_1['price'] = data_attempt_8_1['price'].apply(log_transform_clean)\r\n",
        "sns.distplot(data_attempt_8_1['price']);\r\n",
        "plt.show()\r\n"
      ],
      "execution_count": null,
      "outputs": []
    },
    {
      "cell_type": "markdown",
      "metadata": {
        "id": "-Nm3sX7QY8Ae"
      },
      "source": [
        "### **Standard** **scaler**"
      ]
    },
    {
      "cell_type": "code",
      "metadata": {
        "id": "MVhWMuywL_Ui"
      },
      "source": [
        "from sklearn.model_selection import train_test_split        \r\n",
        "from sklearn.preprocessing import StandardScaler\r\n",
        "# dropping the target feature\r\n",
        "X = data_attempt_8_1.drop(['price'], axis=1)\r\n",
        "y = data_attempt_8_1['price']\r\n",
        "\r\n",
        "X_train, X_test, y_train, y_test = train_test_split(X, y, test_size=0.3, random_state=100)\r\n",
        "\r\n",
        "# applying the standard scaler\r\n",
        "sc = StandardScaler()\r\n",
        "X_train = sc.fit_transform(X_train)\r\n",
        "X_test = sc.transform (X_test)\r\n",
        "\r\n",
        "# model evaluation\r\n",
        "model_evaluation(X_train, X_test, y_train, y_test)"
      ],
      "execution_count": null,
      "outputs": []
    },
    {
      "cell_type": "markdown",
      "metadata": {
        "id": "SNh7L5KCZEzG"
      },
      "source": [
        "### **Min Max Scaler**"
      ]
    },
    {
      "cell_type": "code",
      "metadata": {
        "id": "ETpJdRHnL_ax"
      },
      "source": [
        "from sklearn.model_selection import train_test_split  \r\n",
        "\r\n",
        "# dropping the target feature\r\n",
        "X = data_attempt_8_1.drop(['price'], axis=1)\r\n",
        "y = data_attempt_8_1['price']\r\n",
        "X_train, X_test, y_train, y_test = train_test_split(X, y, test_size=0.3, random_state=100)\r\n",
        "\r\n",
        "# applying the MinMaxScaler\r\n",
        "from sklearn.preprocessing import MinMaxScaler\r\n",
        "minmax =  MinMaxScaler()\r\n",
        "X_train = minmax.fit_transform(X_train)\r\n",
        "X_test = minmax.transform (X_test)\r\n",
        "\r\n",
        "# model evaluation\r\n",
        "model_evaluation(X_train, X_test, y_train, y_test)"
      ],
      "execution_count": null,
      "outputs": []
    },
    {
      "cell_type": "markdown",
      "metadata": {
        "id": "kFbOOaZbZCK8"
      },
      "source": [
        "### **Normalizer**"
      ]
    },
    {
      "cell_type": "code",
      "metadata": {
        "id": "Om8mL6wGM9kW"
      },
      "source": [
        "# dropping the target feature\r\n",
        "X = data_attempt_8_1.drop(['price'], axis=1)\r\n",
        "y = data_attempt_8_1['price']\r\n",
        "X_train, X_test, y_train, y_test = train_test_split(X, y, test_size=0.3, random_state=100)\r\n",
        "\r\n",
        "from sklearn.preprocessing import Normalizer\r\n",
        "norm =  Normalizer()\r\n",
        "X_train = norm.fit_transform(X_train)\r\n",
        "X_test = norm.transform (X_test)\r\n",
        "\r\n",
        "# model evaluation\r\n",
        "model_evaluation(X_train, X_test, y_train, y_test)"
      ],
      "execution_count": null,
      "outputs": []
    },
    {
      "cell_type": "markdown",
      "metadata": {
        "id": "AvdaFQVNbbkd"
      },
      "source": [
        "We can see that the second  bin attempt has slightly improved the model (Linear Regression of the raw data 0.68 changed to 0.77.\r\n",
        "However, since we are aiming for at least 0.90, this were not very successful attempts."
      ]
    },
    {
      "cell_type": "markdown",
      "metadata": {
        "id": "ajJqtxYiAM09"
      },
      "source": [
        "# Final Attempt\r\n",
        "Here is what we did:\r\n",
        "\r\n",
        "    - drop duplicates ('id')\r\n",
        "    - change typo ('bedrooms': 33 -> 3)\r\n",
        "    - get 'distance_to_seattle'\r\n",
        "    - get 'city', 'population_density', 'median_home_value', 'median_houshold_income'\r\n",
        "    - dummiefy cities (categorical)\r\n",
        "    - drop 'id', 'location' (genereated from 'lat'& 'long' for 'distance_to_seattle')\r\n",
        "    - log transform  target 'price' and high skews 'sqft_lot' and 'sqft_lot15'; for the rest use StandardScaler "
      ]
    },
    {
      "cell_type": "markdown",
      "metadata": {
        "id": "7z-TK-6eRL3g"
      },
      "source": [
        "**Getting a fresh dataset (with 'id')**"
      ]
    },
    {
      "cell_type": "code",
      "metadata": {
        "id": "Yk0OHbubA8-l"
      },
      "source": [
        "data_final_attempt = pd.read_sql_query('SELECT * from house_price_data', engine)\r\n",
        "data_final_attempt.shape"
      ],
      "execution_count": null,
      "outputs": []
    },
    {
      "cell_type": "markdown",
      "metadata": {
        "id": "eJ4qBR39RQhI"
      },
      "source": [
        "**Generate distance to nearest major city Seattle (Downtown)**"
      ]
    },
    {
      "cell_type": "code",
      "metadata": {
        "id": "KKyx7S2uA9OD"
      },
      "source": [
        "from haversine import haversine_vector, Unit,haversine\r\n",
        "seattle = tuple([47.608013, -122.335167])\r\n",
        "data_final_attempt['location'] = tuple(zip(data_final_attempt['lat'], data_final_attempt['long']))\r\n",
        "\r\n",
        "dist_seattle = []\r\n",
        "for i in data_final_attempt['location']:\r\n",
        "    dist_seattle. append(haversine((seattle),(i),unit = 'mi'))\r\n",
        "\r\n",
        "data_final_attempt['distance_to_seattle'] = pd.Series(dist_seattle)\r\n",
        "data_final_attempt = data_final_attempt.drop(['location'],axis=1)\r\n",
        "data_final_attempt.head()"
      ],
      "execution_count": null,
      "outputs": []
    },
    {
      "cell_type": "markdown",
      "metadata": {
        "id": "JDMA1SanRS6M"
      },
      "source": [
        "**Dropping duplicates**"
      ]
    },
    {
      "cell_type": "code",
      "metadata": {
        "id": "IALv58gZA9WA"
      },
      "source": [
        "data_final_attempt = data_final_attempt.drop_duplicates('id', keep='last')\r\n",
        "data_final_attempt.shape"
      ],
      "execution_count": null,
      "outputs": []
    },
    {
      "cell_type": "markdown",
      "metadata": {
        "id": "rSsS-gZkRTsw"
      },
      "source": [
        "**Dropping 'ID'**"
      ]
    },
    {
      "cell_type": "code",
      "metadata": {
        "id": "-5fUoipkA9dy"
      },
      "source": [
        "#drop id\r\n",
        "data_final_attempt = data_final_attempt.drop(['id'], axis=1)"
      ],
      "execution_count": null,
      "outputs": []
    },
    {
      "cell_type": "markdown",
      "metadata": {
        "id": "tpLr8mdQRUWO"
      },
      "source": [
        "**Replacing the value 33 in 'Bedrooms' for '3' (possible typo)**"
      ]
    },
    {
      "cell_type": "code",
      "metadata": {
        "id": "6klQpSAvA9ht"
      },
      "source": [
        "data_final_attempt['bedrooms'] = data_final_attempt['bedrooms'].replace(33, 3)\r\n",
        "data_final_attempt['bedrooms'].unique()"
      ],
      "execution_count": null,
      "outputs": []
    },
    {
      "cell_type": "markdown",
      "metadata": {
        "id": "V6-mO-h3Rs9E"
      },
      "source": [
        "**Getting the city, population_density, median_household_income, median_home_value from the zipcode**"
      ]
    },
    {
      "cell_type": "code",
      "metadata": {
        "id": "YHzR67rjA9l1"
      },
      "source": [
        "from uszipcode import Zipcode,SearchEngine\r\n",
        "\r\n",
        "def get_city_name(x):\r\n",
        "    search = SearchEngine(simple_zipcode=True)\r\n",
        "    zipcode=search.by_zipcode(x)\r\n",
        "    return zipcode.major_city\r\n",
        "\r\n",
        "data_final_attempt['city'] = list(map(get_city_name, data_final_attempt['zipcode']))"
      ],
      "execution_count": null,
      "outputs": []
    },
    {
      "cell_type": "code",
      "metadata": {
        "id": "TVz1JXRfA9pf"
      },
      "source": [
        "data_final_attempt['city'].value_counts()"
      ],
      "execution_count": null,
      "outputs": []
    },
    {
      "cell_type": "code",
      "metadata": {
        "id": "-vHPcaCnA9tw"
      },
      "source": [
        "def get_population_density(x):\r\n",
        "    search = SearchEngine(simple_zipcode=True)\r\n",
        "    zipcode=search.by_zipcode(x)\r\n",
        "    return zipcode.population_density\r\n",
        "\r\n",
        "data_final_attempt['population_density'] = list(map(get_population_density, data_final_attempt['zipcode']))"
      ],
      "execution_count": null,
      "outputs": []
    },
    {
      "cell_type": "code",
      "metadata": {
        "id": "dN1XpnFTBWcW"
      },
      "source": [
        "def get_median_household_income(x):\r\n",
        "    search = SearchEngine(simple_zipcode=True)\r\n",
        "    zipcode=search.by_zipcode(x)\r\n",
        "    return zipcode.median_household_income\r\n",
        "\r\n",
        "data_final_attempt['median_household_income'] = list(map(get_median_household_income, data_final_attempt['zipcode']))"
      ],
      "execution_count": null,
      "outputs": []
    },
    {
      "cell_type": "code",
      "metadata": {
        "id": "_CIci-mHBWfq"
      },
      "source": [
        "def get_median_home_value(x):\r\n",
        "    search = SearchEngine(simple_zipcode=True)\r\n",
        "    zipcode=search.by_zipcode(x)\r\n",
        "    return zipcode.median_home_value\r\n",
        "\r\n",
        "data_final_attempt['median_home_value'] = list(map(get_median_home_value, data_final_attempt['zipcode']))"
      ],
      "execution_count": null,
      "outputs": []
    },
    {
      "cell_type": "markdown",
      "metadata": {
        "id": "iPz979j4R76C"
      },
      "source": [
        "**Checking the data**"
      ]
    },
    {
      "cell_type": "code",
      "metadata": {
        "id": "Qg_Z_oWiBWj8"
      },
      "source": [
        "data_final_attempt.head()"
      ],
      "execution_count": null,
      "outputs": []
    },
    {
      "cell_type": "markdown",
      "metadata": {
        "id": "yJryUAErSAZT"
      },
      "source": [
        "**Dummifying the column 'city'**"
      ]
    },
    {
      "cell_type": "code",
      "metadata": {
        "id": "IgaxcG1OBWmt"
      },
      "source": [
        "dummy = pd.get_dummies(data=data_final_attempt[['city']], columns=['city'],drop_first=True)"
      ],
      "execution_count": null,
      "outputs": []
    },
    {
      "cell_type": "code",
      "metadata": {
        "id": "Nb6rQlESBWqE"
      },
      "source": [
        "rest = data_final_attempt.drop(['city'], axis=1)\r\n",
        "data_final_attempt = pd.concat([rest, dummy], axis=1)\r\n",
        "data_final_attempt.head()"
      ],
      "execution_count": null,
      "outputs": []
    },
    {
      "cell_type": "code",
      "metadata": {
        "id": "K7unL-epknYR"
      },
      "source": [
        "log_scale_model(data_final_attempt, 'price', ['sqft_lot','sqft_lot15'], 'StandardScaler')"
      ],
      "execution_count": null,
      "outputs": []
    },
    {
      "cell_type": "markdown",
      "metadata": {
        "id": "Ad3SpqSWep-i"
      },
      "source": [
        "# Checking the correlation for house prices above 650K\r\n"
      ]
    },
    {
      "cell_type": "code",
      "metadata": {
        "id": "RpNrr4oLeuvd"
      },
      "source": [
        "data = pd.read_sql_query('SELECT * from house_price_data', engine)\r\n",
        "data_above = data.copy()\r\n",
        "\r\n",
        "# splitting the data for values above and below 650K\r\n",
        "data_above = data[data['price']>=650000]\r\n",
        "data_below = data[data['price']<650000]"
      ],
      "execution_count": null,
      "outputs": []
    },
    {
      "cell_type": "code",
      "metadata": {
        "id": "QhwWbYJ-5PGj"
      },
      "source": [
        "# getting the correlation data of price for both datasets\r\n",
        "corr_above = data_above.corr()\r\n",
        "corr_below = data_below.corr()"
      ],
      "execution_count": null,
      "outputs": []
    },
    {
      "cell_type": "code",
      "metadata": {
        "id": "B3VpEWOU5V8e"
      },
      "source": [
        "# renaming the price column for each dataset\r\n",
        "corr_below.rename(columns={'price':'price_below'}, inplace=True)\r\n",
        "corr_above.rename(columns={'price':'price_above'}, inplace=True)"
      ],
      "execution_count": null,
      "outputs": []
    },
    {
      "cell_type": "code",
      "metadata": {
        "id": "xpIGR-b_5X2I"
      },
      "source": [
        "# getting the 5 highest correlated data for each one\r\n",
        "corr_above = corr_above.sort_values(by=['price_above'],ascending=False)\r\n",
        "corr_above['price_above'][:6]"
      ],
      "execution_count": null,
      "outputs": []
    },
    {
      "cell_type": "code",
      "metadata": {
        "id": "7jeYGFHn9Qr1"
      },
      "source": [
        "corr_below = corr_below.sort_values(by=['price_below'],ascending=False)\r\n",
        "corr_below['price_below'][:6]"
      ],
      "execution_count": null,
      "outputs": []
    },
    {
      "cell_type": "code",
      "metadata": {
        "id": "waUeBhxr5mUB"
      },
      "source": [
        "# concatenating both datasets\r\n",
        "corr_comparison = pd.concat([corr_above['price_above'],corr_below['price_below']], axis = 1)"
      ],
      "execution_count": null,
      "outputs": []
    },
    {
      "cell_type": "code",
      "metadata": {
        "id": "NdEplmc35ZKG"
      },
      "source": [
        "# sorting the results by price above 650000\r\n",
        "corr_comparison.sort_values(by=['price_above'],ascending=False)\r\n",
        "\r\n",
        "# plotting the results\r\n",
        "corr_comparison[['price_above','price_below']][1:].plot(kind='bar')"
      ],
      "execution_count": null,
      "outputs": []
    },
    {
      "cell_type": "code",
      "metadata": {
        "id": "8mdplfsH5iFk"
      },
      "source": [
        "# sorting the results by price below 650000\r\n",
        "corr_comparison=corr_comparison.sort_values(by=['price_below'],ascending=False)\r\n",
        "\r\n",
        "# plotting the results\r\n",
        "corr_comparison[['price_below','price_above']][1:].plot(kind='bar')"
      ],
      "execution_count": null,
      "outputs": []
    },
    {
      "cell_type": "markdown",
      "metadata": {
        "id": "PiBgQffN5pFl"
      },
      "source": [
        "For houses above 650K, sqft_living has the highest correlation( 0.60 ), higher than for those below that price ( 0.44 ). Grade is important for both.\r\n",
        "Latitude gets the highest relevance for houses below that price ( 0.48 ), while it's below zero for houses above 650K ( -0.01 ) \r\n",
        "\r\n",
        "The highest correlation for houses above 650K are sqft_living ( 0.60 ), grade ( 0.50 ), sqft_above ( 0.46 ), bathrooms ( 0.39 ), and sqft_living ( 0.37 )\r\n",
        "On the contrary, the highest correlation for houses below 650K are lat ( 0.48 ), grade ( 0.48 ), sqft_living ( 0.44 ), sqft_living15 ( 0.40 ) and sqft_above ( 0.34 )"
      ]
    },
    {
      "cell_type": "markdown",
      "metadata": {
        "id": "ELaWvH89uvVb"
      },
      "source": [
        "If we perform this analysis with the new columns created on the final attempt, these are the results"
      ]
    },
    {
      "cell_type": "code",
      "metadata": {
        "id": "vl_3kOgW-fQW"
      },
      "source": [
        "data_above = data_final_attempt.copy()\r\n",
        "\r\n",
        "# splitting the data for values above and below 650K\r\n",
        "data_above = data_final_attempt[data_final_attempt['price']>=650000]\r\n",
        "data_below = data_final_attempt[data_final_attempt['price']<650000]\r\n",
        "\r\n",
        "# getting the correlation data of price for both datasets\r\n",
        "corr_above = data_above.corr()\r\n",
        "corr_below = data_below.corr()\r\n",
        "\r\n",
        "# renaming the price column for each dataset\r\n",
        "corr_below.rename(columns={'price':'price_below'}, inplace=True)\r\n",
        "corr_above.rename(columns={'price':'price_above'}, inplace=True)\r\n",
        "\r\n",
        "# getting the 5 highest correlated data for each one\r\n",
        "corr_above = corr_above.sort_values(by=['price_above'],ascending=False)\r\n",
        "corr_above['price_above'][:6]"
      ],
      "execution_count": null,
      "outputs": []
    },
    {
      "cell_type": "code",
      "metadata": {
        "id": "YEQk_9TF-kPD"
      },
      "source": [
        "corr_below = corr_below.sort_values(by=['price_below'],ascending=False)\r\n",
        "corr_below['price_below'][:6]\r\n"
      ],
      "execution_count": null,
      "outputs": []
    },
    {
      "cell_type": "markdown",
      "metadata": {
        "id": "cpqBfze8-l7p"
      },
      "source": [
        "The highest correlation for houses above 650K are grade (  0.70 ), sqft_living ( 0.69 ), , sqft_above ( 0.46 ), median_home_value ( 0.69 ), and sqft_living15 (  0.61 )\r\n",
        "On the contrary, the highest correlation for houses below 650K are grade (  0.70 ), sqft_living ( 0.69 ), median_home_value ( 0.44 ), sqft_living15 ( 0.69 ) and sqft_living15  (  0.61 )"
      ]
    },
    {
      "cell_type": "code",
      "metadata": {
        "id": "qwFPw9bqjknB"
      },
      "source": [
        ""
      ],
      "execution_count": null,
      "outputs": []
    }
  ]
}